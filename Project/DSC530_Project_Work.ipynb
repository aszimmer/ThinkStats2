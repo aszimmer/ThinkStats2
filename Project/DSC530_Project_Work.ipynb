{
 "cells": [
  {
   "cell_type": "markdown",
   "id": "5a8feb91",
   "metadata": {},
   "source": [
    "## Code for Project"
   ]
  },
  {
   "cell_type": "code",
   "execution_count": 5,
   "id": "c1eb4856",
   "metadata": {},
   "outputs": [
    {
     "data": {
      "text/html": [
       "<div>\n",
       "<style scoped>\n",
       "    .dataframe tbody tr th:only-of-type {\n",
       "        vertical-align: middle;\n",
       "    }\n",
       "\n",
       "    .dataframe tbody tr th {\n",
       "        vertical-align: top;\n",
       "    }\n",
       "\n",
       "    .dataframe thead th {\n",
       "        text-align: right;\n",
       "    }\n",
       "</style>\n",
       "<table border=\"1\" class=\"dataframe\">\n",
       "  <thead>\n",
       "    <tr style=\"text-align: right;\">\n",
       "      <th></th>\n",
       "      <th>studentID</th>\n",
       "      <th>school</th>\n",
       "      <th>gradelevel</th>\n",
       "      <th>gender</th>\n",
       "      <th>covidpos</th>\n",
       "      <th>householdincome</th>\n",
       "      <th>freelunch</th>\n",
       "      <th>numcomputers</th>\n",
       "      <th>familysize</th>\n",
       "      <th>fathereduc</th>\n",
       "      <th>mothereduc</th>\n",
       "      <th>readingscore</th>\n",
       "      <th>writingscore</th>\n",
       "      <th>mathscore</th>\n",
       "      <th>readingscoreSL</th>\n",
       "      <th>writingscoreSL</th>\n",
       "      <th>mathscoreSL</th>\n",
       "      <th>timeperiod</th>\n",
       "    </tr>\n",
       "  </thead>\n",
       "  <tbody>\n",
       "    <tr>\n",
       "      <th>0</th>\n",
       "      <td>1</td>\n",
       "      <td>0</td>\n",
       "      <td>6</td>\n",
       "      <td>1</td>\n",
       "      <td>1</td>\n",
       "      <td>59065</td>\n",
       "      <td>0</td>\n",
       "      <td>5</td>\n",
       "      <td>3</td>\n",
       "      <td>1</td>\n",
       "      <td>0</td>\n",
       "      <td>73</td>\n",
       "      <td>69</td>\n",
       "      <td>87</td>\n",
       "      <td>85</td>\n",
       "      <td>83</td>\n",
       "      <td>71</td>\n",
       "      <td>2</td>\n",
       "    </tr>\n",
       "    <tr>\n",
       "      <th>1</th>\n",
       "      <td>1</td>\n",
       "      <td>0</td>\n",
       "      <td>6</td>\n",
       "      <td>1</td>\n",
       "      <td>1</td>\n",
       "      <td>59065</td>\n",
       "      <td>0</td>\n",
       "      <td>5</td>\n",
       "      <td>3</td>\n",
       "      <td>1</td>\n",
       "      <td>0</td>\n",
       "      <td>63</td>\n",
       "      <td>73</td>\n",
       "      <td>57</td>\n",
       "      <td>78</td>\n",
       "      <td>75</td>\n",
       "      <td>58</td>\n",
       "      <td>4</td>\n",
       "    </tr>\n",
       "    <tr>\n",
       "      <th>2</th>\n",
       "      <td>1</td>\n",
       "      <td>0</td>\n",
       "      <td>6</td>\n",
       "      <td>1</td>\n",
       "      <td>1</td>\n",
       "      <td>59065</td>\n",
       "      <td>0</td>\n",
       "      <td>5</td>\n",
       "      <td>3</td>\n",
       "      <td>1</td>\n",
       "      <td>0</td>\n",
       "      <td>80</td>\n",
       "      <td>67</td>\n",
       "      <td>57</td>\n",
       "      <td>88</td>\n",
       "      <td>80</td>\n",
       "      <td>85</td>\n",
       "      <td>1</td>\n",
       "    </tr>\n",
       "    <tr>\n",
       "      <th>3</th>\n",
       "      <td>1</td>\n",
       "      <td>0</td>\n",
       "      <td>6</td>\n",
       "      <td>1</td>\n",
       "      <td>1</td>\n",
       "      <td>59065</td>\n",
       "      <td>0</td>\n",
       "      <td>5</td>\n",
       "      <td>3</td>\n",
       "      <td>1</td>\n",
       "      <td>0</td>\n",
       "      <td>69</td>\n",
       "      <td>56</td>\n",
       "      <td>74</td>\n",
       "      <td>70</td>\n",
       "      <td>48</td>\n",
       "      <td>87</td>\n",
       "      <td>3</td>\n",
       "    </tr>\n",
       "    <tr>\n",
       "      <th>4</th>\n",
       "      <td>1</td>\n",
       "      <td>0</td>\n",
       "      <td>6</td>\n",
       "      <td>1</td>\n",
       "      <td>1</td>\n",
       "      <td>59065</td>\n",
       "      <td>0</td>\n",
       "      <td>5</td>\n",
       "      <td>3</td>\n",
       "      <td>1</td>\n",
       "      <td>0</td>\n",
       "      <td>83</td>\n",
       "      <td>87</td>\n",
       "      <td>65</td>\n",
       "      <td>69</td>\n",
       "      <td>86</td>\n",
       "      <td>66</td>\n",
       "      <td>0</td>\n",
       "    </tr>\n",
       "    <tr>\n",
       "      <th>...</th>\n",
       "      <td>...</td>\n",
       "      <td>...</td>\n",
       "      <td>...</td>\n",
       "      <td>...</td>\n",
       "      <td>...</td>\n",
       "      <td>...</td>\n",
       "      <td>...</td>\n",
       "      <td>...</td>\n",
       "      <td>...</td>\n",
       "      <td>...</td>\n",
       "      <td>...</td>\n",
       "      <td>...</td>\n",
       "      <td>...</td>\n",
       "      <td>...</td>\n",
       "      <td>...</td>\n",
       "      <td>...</td>\n",
       "      <td>...</td>\n",
       "      <td>...</td>\n",
       "    </tr>\n",
       "    <tr>\n",
       "      <th>8395</th>\n",
       "      <td>1400</td>\n",
       "      <td>1</td>\n",
       "      <td>12</td>\n",
       "      <td>1</td>\n",
       "      <td>1</td>\n",
       "      <td>65784</td>\n",
       "      <td>1</td>\n",
       "      <td>2</td>\n",
       "      <td>3</td>\n",
       "      <td>3</td>\n",
       "      <td>0</td>\n",
       "      <td>73</td>\n",
       "      <td>67</td>\n",
       "      <td>87</td>\n",
       "      <td>71</td>\n",
       "      <td>65</td>\n",
       "      <td>85</td>\n",
       "      <td>0</td>\n",
       "    </tr>\n",
       "    <tr>\n",
       "      <th>8396</th>\n",
       "      <td>1400</td>\n",
       "      <td>1</td>\n",
       "      <td>12</td>\n",
       "      <td>1</td>\n",
       "      <td>1</td>\n",
       "      <td>65784</td>\n",
       "      <td>1</td>\n",
       "      <td>2</td>\n",
       "      <td>3</td>\n",
       "      <td>3</td>\n",
       "      <td>3</td>\n",
       "      <td>59</td>\n",
       "      <td>84</td>\n",
       "      <td>64</td>\n",
       "      <td>56</td>\n",
       "      <td>82</td>\n",
       "      <td>62</td>\n",
       "      <td>2</td>\n",
       "    </tr>\n",
       "    <tr>\n",
       "      <th>8397</th>\n",
       "      <td>1400</td>\n",
       "      <td>1</td>\n",
       "      <td>12</td>\n",
       "      <td>1</td>\n",
       "      <td>1</td>\n",
       "      <td>65784</td>\n",
       "      <td>1</td>\n",
       "      <td>2</td>\n",
       "      <td>3</td>\n",
       "      <td>3</td>\n",
       "      <td>3</td>\n",
       "      <td>52</td>\n",
       "      <td>83</td>\n",
       "      <td>77</td>\n",
       "      <td>49</td>\n",
       "      <td>80</td>\n",
       "      <td>75</td>\n",
       "      <td>3</td>\n",
       "    </tr>\n",
       "    <tr>\n",
       "      <th>8398</th>\n",
       "      <td>1400</td>\n",
       "      <td>1</td>\n",
       "      <td>12</td>\n",
       "      <td>1</td>\n",
       "      <td>1</td>\n",
       "      <td>65784</td>\n",
       "      <td>1</td>\n",
       "      <td>2</td>\n",
       "      <td>3</td>\n",
       "      <td>3</td>\n",
       "      <td>3</td>\n",
       "      <td>64</td>\n",
       "      <td>48</td>\n",
       "      <td>81</td>\n",
       "      <td>62</td>\n",
       "      <td>45</td>\n",
       "      <td>79</td>\n",
       "      <td>1</td>\n",
       "    </tr>\n",
       "    <tr>\n",
       "      <th>8399</th>\n",
       "      <td>1400</td>\n",
       "      <td>1</td>\n",
       "      <td>12</td>\n",
       "      <td>1</td>\n",
       "      <td>1</td>\n",
       "      <td>65784</td>\n",
       "      <td>1</td>\n",
       "      <td>2</td>\n",
       "      <td>3</td>\n",
       "      <td>3</td>\n",
       "      <td>3</td>\n",
       "      <td>76</td>\n",
       "      <td>51</td>\n",
       "      <td>68</td>\n",
       "      <td>74</td>\n",
       "      <td>49</td>\n",
       "      <td>66</td>\n",
       "      <td>5</td>\n",
       "    </tr>\n",
       "  </tbody>\n",
       "</table>\n",
       "<p>8400 rows × 18 columns</p>\n",
       "</div>"
      ],
      "text/plain": [
       "      studentID  school  gradelevel  gender  covidpos  householdincome  \\\n",
       "0             1       0           6       1         1            59065   \n",
       "1             1       0           6       1         1            59065   \n",
       "2             1       0           6       1         1            59065   \n",
       "3             1       0           6       1         1            59065   \n",
       "4             1       0           6       1         1            59065   \n",
       "...         ...     ...         ...     ...       ...              ...   \n",
       "8395       1400       1          12       1         1            65784   \n",
       "8396       1400       1          12       1         1            65784   \n",
       "8397       1400       1          12       1         1            65784   \n",
       "8398       1400       1          12       1         1            65784   \n",
       "8399       1400       1          12       1         1            65784   \n",
       "\n",
       "      freelunch  numcomputers  familysize  fathereduc  mothereduc  \\\n",
       "0             0             5           3           1           0   \n",
       "1             0             5           3           1           0   \n",
       "2             0             5           3           1           0   \n",
       "3             0             5           3           1           0   \n",
       "4             0             5           3           1           0   \n",
       "...         ...           ...         ...         ...         ...   \n",
       "8395          1             2           3           3           0   \n",
       "8396          1             2           3           3           3   \n",
       "8397          1             2           3           3           3   \n",
       "8398          1             2           3           3           3   \n",
       "8399          1             2           3           3           3   \n",
       "\n",
       "      readingscore  writingscore  mathscore  readingscoreSL  writingscoreSL  \\\n",
       "0               73            69         87              85              83   \n",
       "1               63            73         57              78              75   \n",
       "2               80            67         57              88              80   \n",
       "3               69            56         74              70              48   \n",
       "4               83            87         65              69              86   \n",
       "...            ...           ...        ...             ...             ...   \n",
       "8395            73            67         87              71              65   \n",
       "8396            59            84         64              56              82   \n",
       "8397            52            83         77              49              80   \n",
       "8398            64            48         81              62              45   \n",
       "8399            76            51         68              74              49   \n",
       "\n",
       "      mathscoreSL  timeperiod  \n",
       "0              71           2  \n",
       "1              58           4  \n",
       "2              85           1  \n",
       "3              87           3  \n",
       "4              66           0  \n",
       "...           ...         ...  \n",
       "8395           85           0  \n",
       "8396           62           2  \n",
       "8397           75           3  \n",
       "8398           79           1  \n",
       "8399           66           5  \n",
       "\n",
       "[8400 rows x 18 columns]"
      ]
     },
     "execution_count": 5,
     "metadata": {},
     "output_type": "execute_result"
    }
   ],
   "source": [
    "import pandas as pd\n",
    "data = pd.read_csv(\"C:/Users/alexi/OneDrive/Documents/1 Data Science/DSC530/DF3.csv\")\n",
    "data"
   ]
  },
  {
   "cell_type": "code",
   "execution_count": 10,
   "id": "3c5d6bb5",
   "metadata": {},
   "outputs": [
    {
     "data": {
      "text/plain": [
       "Text(0.5, 1.0, 'Mother Education')"
      ]
     },
     "execution_count": 10,
     "metadata": {},
     "output_type": "execute_result"
    },
    {
     "data": {
      "image/png": "[encoded data removed]",
      "text/plain": [
       "<Figure size 432x288 with 1 Axes>"
      ]
     },
     "metadata": {
      "needs_background": "light"
     },
     "output_type": "display_data"
    }
   ],
   "source": [
    "## histograms\n",
    "import matplotlib.pyplot as plt\n",
    "data['mothereduc'].plot(kind='hist', bins = 4)\n",
    "plt.title('Mother Education')"
   ]
  },
  {
   "cell_type": "code",
   "execution_count": 11,
   "id": "58ecbd8b",
   "metadata": {},
   "outputs": [
    {
     "data": {
      "text/plain": [
       "Text(0.5, 1.0, 'Father Education')"
      ]
     },
     "execution_count": 11,
     "metadata": {},
     "output_type": "execute_result"
    },
    {
     "data": {
      "image/png": "[encoded data removed]",
      "text/plain": [
       "<Figure size 432x288 with 1 Axes>"
      ]
     },
     "metadata": {
      "needs_background": "light"
     },
     "output_type": "display_data"
    }
   ],
   "source": [
    "data['fathereduc'].plot(kind='hist', bins = 4)\n",
    "plt.title('Father Education')"
   ]
  },
  {
   "cell_type": "code",
   "execution_count": 12,
   "id": "69547ba9",
   "metadata": {},
   "outputs": [
    {
     "data": {
      "text/plain": [
       "Text(0.5, 1.0, 'Number of Computers')"
      ]
     },
     "execution_count": 12,
     "metadata": {},
     "output_type": "execute_result"
    },
    {
     "data": {
      "image/png": "[encoded data removed]",
      "text/plain": [
       "<Figure size 432x288 with 1 Axes>"
      ]
     },
     "metadata": {
      "needs_background": "light"
     },
     "output_type": "display_data"
    }
   ],
   "source": [
    "data['numcomputers'].plot(kind='hist', bins = 5)\n",
    "plt.title('Number of Computers')"
   ]
  },
  {
   "cell_type": "code",
   "execution_count": 13,
   "id": "be2bf993",
   "metadata": {},
   "outputs": [
    {
     "data": {
      "text/plain": [
       "Text(0.5, 1.0, 'Family Size')"
      ]
     },
     "execution_count": 13,
     "metadata": {},
     "output_type": "execute_result"
    },
    {
     "data": {
      "image/png": "[encoded data removed]",
      "text/plain": [
       "<Figure size 432x288 with 1 Axes>"
      ]
     },
     "metadata": {
      "needs_background": "light"
     },
     "output_type": "display_data"
    }
   ],
   "source": [
    "data['familysize'].plot(kind='hist', bins = 5)\n",
    "plt.title('Family Size')"
   ]
  },
  {
   "cell_type": "code",
   "execution_count": 14,
   "id": "2c78e579",
   "metadata": {},
   "outputs": [
    {
     "data": {
      "text/plain": [
       "Text(0.5, 1.0, 'Household Income')"
      ]
     },
     "execution_count": 14,
     "metadata": {},
     "output_type": "execute_result"
    },
    {
     "data": {
      "image/png": "[encoded data removed]",
      "text/plain": [
       "<Figure size 432x288 with 1 Axes>"
      ]
     },
     "metadata": {
      "needs_background": "light"
     },
     "output_type": "display_data"
    }
   ],
   "source": [
    "data['householdincome'].plot(kind='hist')\n",
    "plt.title('Household Income')"
   ]
  },
  {
   "cell_type": "code",
   "execution_count": 18,
   "id": "2e4ff754",
   "metadata": {},
   "outputs": [
    {
     "data": {
      "text/html": [
       "<div>\n",
       "<style scoped>\n",
       "    .dataframe tbody tr th:only-of-type {\n",
       "        vertical-align: middle;\n",
       "    }\n",
       "\n",
       "    .dataframe tbody tr th {\n",
       "        vertical-align: top;\n",
       "    }\n",
       "\n",
       "    .dataframe thead th {\n",
       "        text-align: right;\n",
       "    }\n",
       "</style>\n",
       "<table border=\"1\" class=\"dataframe\">\n",
       "  <thead>\n",
       "    <tr style=\"text-align: right;\">\n",
       "      <th></th>\n",
       "      <th>householdincome</th>\n",
       "      <th>mothereduc</th>\n",
       "      <th>fathereduc</th>\n",
       "      <th>numcomputers</th>\n",
       "      <th>familysize</th>\n",
       "    </tr>\n",
       "  </thead>\n",
       "  <tbody>\n",
       "    <tr>\n",
       "      <th>min</th>\n",
       "      <td>0.000000</td>\n",
       "      <td>0.000000</td>\n",
       "      <td>0.00000</td>\n",
       "      <td>0.000000</td>\n",
       "      <td>0.000000</td>\n",
       "    </tr>\n",
       "    <tr>\n",
       "      <th>max</th>\n",
       "      <td>179297.000000</td>\n",
       "      <td>4.000000</td>\n",
       "      <td>4.00000</td>\n",
       "      <td>5.000000</td>\n",
       "      <td>5.000000</td>\n",
       "    </tr>\n",
       "    <tr>\n",
       "      <th>median</th>\n",
       "      <td>85214.500000</td>\n",
       "      <td>1.000000</td>\n",
       "      <td>1.00000</td>\n",
       "      <td>2.000000</td>\n",
       "      <td>2.000000</td>\n",
       "    </tr>\n",
       "    <tr>\n",
       "      <th>skew</th>\n",
       "      <td>-0.004446</td>\n",
       "      <td>NaN</td>\n",
       "      <td>NaN</td>\n",
       "      <td>NaN</td>\n",
       "      <td>NaN</td>\n",
       "    </tr>\n",
       "    <tr>\n",
       "      <th>mean</th>\n",
       "      <td>NaN</td>\n",
       "      <td>1.263571</td>\n",
       "      <td>1.33381</td>\n",
       "      <td>2.323571</td>\n",
       "      <td>2.071429</td>\n",
       "    </tr>\n",
       "  </tbody>\n",
       "</table>\n",
       "</div>"
      ],
      "text/plain": [
       "        householdincome  mothereduc  fathereduc  numcomputers  familysize\n",
       "min            0.000000    0.000000     0.00000      0.000000    0.000000\n",
       "max       179297.000000    4.000000     4.00000      5.000000    5.000000\n",
       "median     85214.500000    1.000000     1.00000      2.000000    2.000000\n",
       "skew          -0.004446         NaN         NaN           NaN         NaN\n",
       "mean                NaN    1.263571     1.33381      2.323571    2.071429"
      ]
     },
     "execution_count": 18,
     "metadata": {},
     "output_type": "execute_result"
    }
   ],
   "source": [
    "## descriptive statistics\n",
    "data.agg(\n",
    "    {\n",
    "        \"householdincome\": [\"min\", \"max\", \"median\", \"skew\"],\n",
    "        \"mothereduc\": [\"min\", \"max\", \"median\", \"mean\"],\n",
    "        \"fathereduc\": [\"min\", \"max\", \"median\", \"mean\"],\n",
    "        \"numcomputers\": [\"min\", \"max\", \"median\", \"mean\"],\n",
    "        \"familysize\": [\"min\", \"max\", \"median\", \"mean\"],\n",
    "    }\n",
    ")"
   ]
  },
  {
   "cell_type": "code",
   "execution_count": 41,
   "id": "0cdc9f98",
   "metadata": {},
   "outputs": [],
   "source": [
    "import thinkplot"
   ]
  },
  {
   "cell_type": "code",
   "execution_count": 45,
   "id": "a8a21c71",
   "metadata": {},
   "outputs": [
    {
     "name": "stdout",
     "output_type": "stream",
     "text": [
      "1 0.595\n",
      "2 0.20142857142857143\n",
      "0 0.12047619047619047\n",
      "3 0.06666666666666667\n",
      "4 0.016428571428571428\n"
     ]
    },
    {
     "data": {
      "image/png": "[encoded data removed]",
      "text/plain": [
       "<Figure size 432x288 with 1 Axes>"
      ]
     },
     "metadata": {
      "needs_background": "light"
     },
     "output_type": "display_data"
    }
   ],
   "source": [
    "pmf = thinkstats2.Pmf(data.mothereduc)\n",
    "for val, prob in pmf.Items():\n",
    "    print(val, prob)\n",
    "    \n",
    "thinkplot.PrePlot(1)\n",
    "thinkplot.Hist(pmf)\n",
    "thinkplot.Config(xlabel='Mother Education',\n",
    "                 ylabel='PMF', \n",
    "                 xlim=[0, 4],\n",
    "                 legend=False)"
   ]
  },
  {
   "cell_type": "code",
   "execution_count": 46,
   "id": "6c957cb4",
   "metadata": {},
   "outputs": [
    {
     "name": "stdout",
     "output_type": "stream",
     "text": [
      "2 0.37857142857142856\n",
      "1 0.24857142857142858\n",
      "3 0.24142857142857144\n",
      "4 0.07285714285714286\n",
      "0 0.04857142857142857\n",
      "5 0.01\n"
     ]
    },
    {
     "data": {
      "image/png": "[encoded data removed]",
      "text/plain": [
       "<Figure size 432x288 with 1 Axes>"
      ]
     },
     "metadata": {
      "needs_background": "light"
     },
     "output_type": "display_data"
    }
   ],
   "source": [
    "pmf = thinkstats2.Pmf(data.familysize)\n",
    "for val, prob in pmf.Items():\n",
    "    print(val, prob)\n",
    "    \n",
    "thinkplot.PrePlot(1)\n",
    "thinkplot.Hist(pmf)\n",
    "thinkplot.Config(xlabel='Family Size',\n",
    "                 ylabel='PMF', \n",
    "                 xlim=[0, 5],\n",
    "                 legend=False)"
   ]
  },
  {
   "cell_type": "code",
   "execution_count": 47,
   "id": "69f86bec",
   "metadata": {},
   "outputs": [
    {
     "data": {
      "text/plain": [
       "Cdf(['covidpos' 'familysize' 'fathereduc' 'freelunch' 'gender' 'gradelevel'\n",
       " 'householdincome' 'mathscore' 'mathscoreSL' 'mothereduc' 'numcomputers'\n",
       " 'readingscore' 'readingscoreSL' 'school' 'studentID' 'timeperiod'\n",
       " 'writingscore' 'writingscoreSL'], [0.05555556 0.11111111 0.16666667 0.22222222 0.27777778 0.33333333\n",
       " 0.38888889 0.44444444 0.5        0.55555556 0.61111111 0.66666667\n",
       " 0.72222222 0.77777778 0.83333333 0.88888889 0.94444444 1.        ])"
      ]
     },
     "execution_count": 47,
     "metadata": {},
     "output_type": "execute_result"
    }
   ],
   "source": [
    "## CDF\n",
    "cdf = thinkstats2.Cdf(data)\n",
    "cdf"
   ]
  },
  {
   "cell_type": "code",
   "execution_count": 72,
   "id": "0d678ac1",
   "metadata": {},
   "outputs": [
    {
     "data": {
      "text/plain": [
       "(0, 8400)"
      ]
     },
     "execution_count": 72,
     "metadata": {},
     "output_type": "execute_result"
    }
   ],
   "source": [
    "readingscore = data[data.readingscore == 1]\n",
    "readingscoreSL = data[data.readingscoreSL != 1]\n",
    "len(readingscore), len(readingscoreSL)"
   ]
  },
  {
   "cell_type": "code",
   "execution_count": 73,
   "id": "96a53c72",
   "metadata": {},
   "outputs": [],
   "source": [
    "data = pd.read_csv(\"C:/Users/alexi/OneDrive/Documents/1 Data Science/DSC530/DF3.csv\")\n",
    "data\n",
    "\n",
    "cdf_readingscore = thinkstats2.Cdf(data.readingscoreSL, label='Reading Score Pre-Pandemic')\n",
    "cdf_readingscoreSL = thinkstats2.Cdf(data.readingscore, label='Reading Score Post-Pandemic')"
   ]
  },
  {
   "cell_type": "code",
   "execution_count": 74,
   "id": "51e4fe48",
   "metadata": {},
   "outputs": [
    {
     "data": {
      "image/png": "[encoded data removed]",
      "text/plain": [
       "<Figure size 432x288 with 1 Axes>"
      ]
     },
     "metadata": {
      "needs_background": "light"
     },
     "output_type": "display_data"
    }
   ],
   "source": [
    "thinkplot.PrePlot\n",
    "thinkplot.Cdfs([cdf_readingscore, cdf_readingscoreSL])\n",
    "thinkplot.Config(xlabel='Reading Scores',\n",
    "                 ylabel='CDF',\n",
    "                 legend=True)"
   ]
  },
  {
   "cell_type": "code",
   "execution_count": 84,
   "id": "8da87ee6",
   "metadata": {},
   "outputs": [
    {
     "data": {
      "image/png": "[encoded data removed]",
      "text/plain": [
       "<Figure size 432x288 with 1 Axes>"
      ]
     },
     "metadata": {
      "needs_background": "light"
     },
     "output_type": "display_data"
    }
   ],
   "source": [
    "## scatterplot\n",
    "\n",
    "colors = data.mathscore\n",
    "plt.scatter(data.numcomputers, data.mathscore, c = colors)\n",
    "plt.show()"
   ]
  },
  {
   "cell_type": "code",
   "execution_count": 86,
   "id": "e1ef7b70",
   "metadata": {},
   "outputs": [
    {
     "data": {
      "text/plain": [
       "array([[  2.6134698 ,   3.93395124],\n",
       "       [  3.93395124, 176.47033931]])"
      ]
     },
     "execution_count": 86,
     "metadata": {},
     "output_type": "execute_result"
    }
   ],
   "source": [
    "np.cov(data.numcomputers, data.mathscore)"
   ]
  },
  {
   "cell_type": "code",
   "execution_count": 87,
   "id": "d229d4f1",
   "metadata": {},
   "outputs": [
    {
     "data": {
      "image/png": "[encoded data removed]",
      "text/plain": [
       "<Figure size 432x288 with 1 Axes>"
      ]
     },
     "metadata": {
      "needs_background": "light"
     },
     "output_type": "display_data"
    }
   ],
   "source": [
    "colors = data.mathscoreSL\n",
    "plt.scatter(data.numcomputers, data.mathscoreSL, c = colors)\n",
    "plt.show()"
   ]
  },
  {
   "cell_type": "code",
   "execution_count": 88,
   "id": "b9445701",
   "metadata": {},
   "outputs": [
    {
     "data": {
      "text/plain": [
       "array([[  2.6134698 ,   3.61400388],\n",
       "       [  3.61400388, 183.03283038]])"
      ]
     },
     "execution_count": 88,
     "metadata": {},
     "output_type": "execute_result"
    }
   ],
   "source": [
    "np.cov(data.numcomputers, data.mathscoreSL)"
   ]
  },
  {
   "cell_type": "code",
   "execution_count": 89,
   "id": "07acd924",
   "metadata": {},
   "outputs": [
    {
     "data": {
      "text/plain": [
       "Ttest_indResult(statistic=15.67473310245262, pvalue=5.521713100368462e-55)"
      ]
     },
     "execution_count": 89,
     "metadata": {},
     "output_type": "execute_result"
    }
   ],
   "source": [
    "## difference in means\n",
    "from scipy.stats import ttest_ind\n",
    "\n",
    "ttest_ind(data['mathscore'], data['mathscoreSL'])"
   ]
  }
 ],
 "metadata": {
  "kernelspec": {
   "display_name": "Python 3 (ipykernel)",
   "language": "python",
   "name": "python3"
  },
  "language_info": {
   "codemirror_mode": {
    "name": "ipython",
    "version": 3
   },
   "file_extension": ".py",
   "mimetype": "text/x-python",
   "name": "python",
   "nbconvert_exporter": "python",
   "pygments_lexer": "ipython3",
   "version": "3.9.12"
  }
 },
 "nbformat": 4,
 "nbformat_minor": 5
}
